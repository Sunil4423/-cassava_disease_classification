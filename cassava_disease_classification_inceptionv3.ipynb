{
  "nbformat": 4,
  "nbformat_minor": 0,
  "metadata": {
    "colab": {
      "name": "cassava_disease_classification_inceptionv3.ipynb",
      "provenance": [],
      "collapsed_sections": [],
      "machine_shape": "hm"
    },
    "kernelspec": {
      "name": "python3",
      "display_name": "Python 3"
    },
    "accelerator": "GPU"
  },
  "cells": [
    {
      "cell_type": "markdown",
      "metadata": {
        "id": "4jzlNeBuClfh",
        "colab_type": "text"
      },
      "source": [
        "# Cassava Disease Classification\n",
        "\n",
        "Cassava is a plant that is an essential source of nutrition to many people in the world especially in West Africa and South America. Unfortunately, this plant is vulnarable against a number of viral infections. Thus it is important for us to be able to identify these diseases through images taken from the leaves of the plants. \n",
        "\n",
        "In this project we us Convolutional Neural Networks to achieve this task. In particular, we do so by transfer learning. We use the Inception V3 model to extract the features from the images and then we use two fully connected layers on top of the convolutional layers in order to classify the images into different types of diseases."
      ]
    },
    {
      "cell_type": "code",
      "metadata": {
        "id": "xfK7DKQX_J3P",
        "colab_type": "code",
        "colab": {}
      },
      "source": [
        "import os\n",
        "import zipfile\n",
        "import matplotlib\n",
        "from imutils import paths\n",
        "import matplotlib.pyplot as plt\n",
        "import numpy as np\n",
        "import pandas as pd\n",
        "import cv2\n",
        "import sys\n",
        "import matplotlib.image as mpimg\n",
        "from google.colab.patches import cv2_imshow\n",
        "from glob import glob \n",
        "%matplotlib inline\n",
        "import matplotlib.pyplot as plt\n",
        "from matplotlib.colors import LogNorm\n",
        "#Keras\n",
        "from keras.utils.np_utils import to_categorical # convert to one-hot-encoding\n",
        "from keras.preprocessing.image import ImageDataGenerator\n",
        "from keras import layers\n",
        "from keras import Model\n",
        "from keras.applications.inception_v3 import InceptionV3, preprocess_input\n",
        "from keras.optimizers import Adam\n",
        "from keras.callbacks import ReduceLROnPlateau, EarlyStopping, LearningRateScheduler\n",
        "from keras import backend as K\n",
        "#sklearn helpers\n",
        "from sklearn.preprocessing import LabelBinarizer\n",
        "from sklearn.metrics import classification_report, confusion_matrix\n",
        "from sklearn import preprocessing"
      ],
      "execution_count": 0,
      "outputs": []
    },
    {
      "cell_type": "markdown",
      "metadata": {
        "id": "bp3qC99sC1hb",
        "colab_type": "text"
      },
      "source": [
        "# Data Preperation\n",
        "\n",
        "Now we download the publicly available dataset containing the images of *Cassava leaves*. These images belong to five category: one healthy category, and 4 category corresponding to four different types of diseases. "
      ]
    },
    {
      "cell_type": "code",
      "metadata": {
        "id": "KzLV3N-S_2ao",
        "colab_type": "code",
        "outputId": "db308509-04bc-431c-ee99-1937d9c2b696",
        "colab": {
          "base_uri": "https://localhost:8080/",
          "height": 204
        }
      },
      "source": [
        "#Download the file and save it in a temporary placeholder '/tmp'\n",
        "!wget --no-check-certificate \\\n",
        "  https://storage.googleapis.com/emcassavadata/cassavaleafdata.zip \\\n",
        "  -O /tmp/cassavaleafdata.zip\n",
        "\n",
        "#Unzip the file in '/tmp'\n",
        "local_zip = '/tmp/cassavaleafdata.zip'\n",
        "zip_ref = zipfile.ZipFile(local_zip, 'r')\n",
        "zip_ref.extractall('/tmp')\n",
        "zip_ref.close()\n",
        "\n",
        "#Split the data into train, valid, test folders\n",
        "base_dir = '/tmp/cassavaleafdata'\n",
        "train_dir = os.path.join(base_dir, 'train')\n",
        "valid_dir = os.path.join(base_dir, 'validation')\n",
        "test_dir = os.path.join(base_dir, 'test')"
      ],
      "execution_count": 0,
      "outputs": [
        {
          "output_type": "stream",
          "text": [
            "--2020-01-27 17:38:07--  https://storage.googleapis.com/emcassavadata/cassavaleafdata.zip\n",
            "Resolving storage.googleapis.com (storage.googleapis.com)... 74.125.195.128, 2607:f8b0:400e:c07::80\n",
            "Connecting to storage.googleapis.com (storage.googleapis.com)|74.125.195.128|:443... connected.\n",
            "HTTP request sent, awaiting response... 200 OK\n",
            "Length: 1354096203 (1.3G) [application/zip]\n",
            "Saving to: ‘/tmp/cassavaleafdata.zip’\n",
            "\n",
            "/tmp/cassavaleafdat 100%[===================>]   1.26G  78.7MB/s    in 16s     \n",
            "\n",
            "2020-01-27 17:38:24 (81.3 MB/s) - ‘/tmp/cassavaleafdata.zip’ saved [1354096203/1354096203]\n",
            "\n"
          ],
          "name": "stdout"
        }
      ]
    },
    {
      "cell_type": "code",
      "metadata": {
        "id": "bGOYIuc8LkUv",
        "colab_type": "code",
        "colab": {}
      },
      "source": [
        "def preprocess(directory):\n",
        "  '''\n",
        "  Return the standardized format of all the \n",
        "  images in a given directory (ex: 'train', 'test', 'valid')\n",
        "  '''\n",
        "  image_files = list(paths.list_images(directory))\n",
        "  #data and label placeholders\n",
        "  arrays, labels = [], []\n",
        "  cnt = 0\n",
        "  for img in image_files:\n",
        "    #find the label of the file\n",
        "    label = img.split('/')[-2]\n",
        "    # standardize the images: convert to RGB & resize to (224, 224)\n",
        "    image = cv2.imread(img)\n",
        "    image = cv2.cvtColor(image, cv2.COLOR_BGR2RGB)\n",
        "    image = cv2.resize(image, (224, 224))\n",
        "    #add the image and label to the place holders\n",
        "    arrays.append(image)\n",
        "    labels.append(label)\n",
        "    cnt += 1\n",
        "  #convert these to numpy arrays  \n",
        "  arrays = np.array(arrays, dtype=\"float32\")\n",
        "  labels = np.array(labels)\n",
        " \n",
        "  return arrays, labels"
      ],
      "execution_count": 0,
      "outputs": []
    },
    {
      "cell_type": "code",
      "metadata": {
        "id": "1-cFOjPLLkXS",
        "colab_type": "code",
        "colab": {}
      },
      "source": [
        "#a placeholder for training data and the training labels\n",
        "train_data, train_labels = preprocess(train_dir)\n",
        "#a placeholder for validation (dev) data and the validation (dev) labels\n",
        "valid_data, valid_labels = preprocess(valid_dir)\n",
        "#a placeholder for test data and the test labels\n",
        "test_data, test_labels = preprocess(test_dir)"
      ],
      "execution_count": 0,
      "outputs": []
    },
    {
      "cell_type": "markdown",
      "metadata": {
        "id": "iz6A4sqaZo_h",
        "colab_type": "text"
      },
      "source": [
        "##One-hot encoding transformation of the labels:\n",
        "\n",
        "Now that we have a placeholder for the labels in the training, dev, and the test set, we perform one-hot encoding to transform the labels (strings) to one-hot vectors. The length of each vector will be equal to the number of classes in the data."
      ]
    },
    {
      "cell_type": "code",
      "metadata": {
        "id": "MrcqWIAFz3hH",
        "colab_type": "code",
        "colab": {}
      },
      "source": [
        "Binarizer = LabelBinarizer()\n",
        "train_y = Binarizer.fit_transform(train_labels)\n",
        "valid_y = Binarizer.transform(valid_labels)\n",
        "test_y = Binarizer.transform(test_labels)"
      ],
      "execution_count": 0,
      "outputs": []
    },
    {
      "cell_type": "code",
      "metadata": {
        "id": "hOY1cyec6s8a",
        "colab_type": "code",
        "colab": {}
      },
      "source": [
        "#shuffling the training data\n",
        "train_indx = np.arange(len(train_labels))\n",
        "np.random.shuffle(train_indx)\n",
        "train_data, train_y = train_data[train_indx], train_y[train_indx]"
      ],
      "execution_count": 0,
      "outputs": []
    },
    {
      "cell_type": "code",
      "metadata": {
        "id": "Ayy5AoaywO5F",
        "colab_type": "code",
        "colab": {}
      },
      "source": [
        "#rescaling the images such that the pixel values are between one and zero\n",
        "train_data = train_data / 255.\n",
        "valid_data = valid_data / 255.\n",
        "test_data = test_data / 255."
      ],
      "execution_count": 0,
      "outputs": []
    },
    {
      "cell_type": "markdown",
      "metadata": {
        "id": "62y1RIWy7VWj",
        "colab_type": "text"
      },
      "source": [
        "Let's take a look at the distribution of classes. We note that the training, the dev, and the test sets are drawn from the same distribution which makes the model trained on training examples generalize better to the unseen examples in the dev and the test set. We also note that the data is very imbalanced. Therefore, we need to inspect the confusion matrix later on to see how successful the model is at distinguishing between the 5 classes."
      ]
    },
    {
      "cell_type": "code",
      "metadata": {
        "id": "oLojBxfd2PHN",
        "colab_type": "code",
        "outputId": "5c964d2c-3fb0-4784-eff4-7cf5af84a8e7",
        "colab": {
          "base_uri": "https://localhost:8080/",
          "height": 265
        }
      },
      "source": [
        "dist1 = plt.hist(train_y.argmax(axis = 1), density = True)\n",
        "dist2 = plt.hist(valid_y.argmax(axis = 1), density = True)\n",
        "dist3 = plt.hist(test_y.argmax(axis = 1), density = True)"
      ],
      "execution_count": 0,
      "outputs": [
        {
          "output_type": "display_data",
          "data": {
            "image/png": "[encoded data removed]",
            "text/plain": [
              "<Figure size 432x288 with 1 Axes>"
            ]
          },
          "metadata": {
            "tags": []
          }
        }
      ]
    },
    {
      "cell_type": "markdown",
      "metadata": {
        "id": "3evSEcxsHPTc",
        "colab_type": "text"
      },
      "source": [
        "#Image augmentation\n",
        "\n",
        "For training our model, we have a dataset with a limited size. \n",
        "One way to alleviate this problem  is to use Image Augmentation.\n",
        "In image augmentation, a set of transformations are applied to the training examples *on the fly* during the training process. For instance, the images are \n",
        "*rotated*, *shifted*, *flipped*, *distorted* (with a prespecified range of a shear parameter). Note that these transformations are performed on the fly: these transformations are done on every example in a given batch during the gradient descent, and in the next batch iteration, a new set of transformations are done on a different set of examples in a different batch. This technique ensures that the network never looks at the same example in the original training data twice and therefore it helps avoid overfitting. "
      ]
    },
    {
      "cell_type": "code",
      "metadata": {
        "id": "gyPDOdONLkcn",
        "colab_type": "code",
        "colab": {}
      },
      "source": [
        "train_augment = ImageDataGenerator(\n",
        "\trotation_range=30,\n",
        "\tzoom_range=0.15,\n",
        "\twidth_shift_range=0.2,\n",
        "\theight_shift_range=0.2,\n",
        "\tshear_range=0.15,\n",
        "\thorizontal_flip=True,\n",
        "\tfill_mode=\"nearest\")\n",
        "\n",
        "valid_augment = ImageDataGenerator()\n",
        "\n",
        "train_augment.fit(train_data)\n",
        "valid_augment.fit(valid_data)\n"
      ],
      "execution_count": 0,
      "outputs": []
    },
    {
      "cell_type": "markdown",
      "metadata": {
        "id": "AxCNd1TVkOb2",
        "colab_type": "text"
      },
      "source": [
        "#Inception V3 fine tuning\n",
        "\n",
        "We use transfer learning to the classify teh images in the data. \n",
        "In particular we use the Inception V3 model without the top dense layers. That is, we only keep the convolutional layers. We flatten the last convolutional activation layer of Inception V3 using the Global average pooling. The output is then feeded to a dense layer with 512 hidden units, followed by a dropout with dropout rate of 0.5, followed by a softmax activation layer for the purpose of multi-class classification.\n",
        "\n",
        "We train the model in two steps: \n",
        "\n",
        "1.   Step one: We keep the convolutional layers of the Inception model frozen, that is we don't let the inception weights vary. So the only trainable parameters are the parameters of the weight matrices of the top dense layer. \n",
        "\n",
        "\n",
        "2.  Once, the parameters of the top dense layers are tuned, we unfreeze the parameters of the convolutional layer and then we retrain all the parameters including the Inception weights and biases. In our experiments we have noticed that retraining the Inception V3 convolutional layers achieves better results."
      ]
    },
    {
      "cell_type": "code",
      "metadata": {
        "id": "lGgWH3jmKEaz",
        "colab_type": "code",
        "colab": {}
      },
      "source": [
        "baseModel = InceptionV3(weights=\"imagenet\", include_top=False, input_shape = (224, 224, 3))\n",
        "#Freeze the Inception V3 layers:\n",
        "for layer in baseModel.layers:\n",
        "\tlayer.trainable = False\n",
        "\n",
        "x = baseModel.output\n",
        "x = layers.GlobalMaxPooling2D()(x)\n",
        "x = layers.Dense(512, activation=\"relu\")(x)\n",
        "x = layers.Dropout(0.5)(x)\n",
        "x = layers.Dense(5, activation=\"softmax\")(x)\n",
        "\n",
        "# Configure and compile the model\n",
        "model = Model(baseModel.input, x)\n",
        "optimizer = Adam(lr=1e-4, beta_1=0.9, beta_2=0.999, epsilon=None, decay=0.0, amsgrad=True)\n",
        "model.compile(loss='categorical_crossentropy',\n",
        "              optimizer=optimizer,\n",
        "              metrics=['accuracy'])"
      ],
      "execution_count": 0,
      "outputs": []
    },
    {
      "cell_type": "code",
      "metadata": {
        "id": "HRTE3pSa0okQ",
        "colab_type": "code",
        "outputId": "45c8a1a4-5068-4a06-c4da-648ec7870612",
        "colab": {
          "base_uri": "https://localhost:8080/",
          "height": 153
        }
      },
      "source": [
        "BATCH_SIZE = 64\n",
        "NEPOCHS = 4\n",
        "history = model.fit_generator(train_augment.flow(train_data, train_y, batch_size = BATCH_SIZE),\n",
        "                              epochs = NEPOCHS, \n",
        "                              validation_data = valid_augment.flow(valid_data, valid_y),\n",
        "                              verbose = 1, \n",
        "                              steps_per_epoch=(train_data.shape[0] // BATCH_SIZE), \n",
        "                              validation_steps=(valid_data.shape[0] // BATCH_SIZE))"
      ],
      "execution_count": 0,
      "outputs": [
        {
          "output_type": "stream",
          "text": [
            "Epoch 1/4\n",
            "88/88 [==============================] - 63s 719ms/step - loss: 1.8919 - acc: 0.4125 - val_loss: 1.3826 - val_acc: 0.4623\n",
            "Epoch 2/4\n",
            "88/88 [==============================] - 61s 690ms/step - loss: 1.2887 - acc: 0.5131 - val_loss: 1.3330 - val_acc: 0.4828\n",
            "Epoch 3/4\n",
            "88/88 [==============================] - 60s 684ms/step - loss: 1.2267 - acc: 0.5345 - val_loss: 1.3158 - val_acc: 0.4649\n",
            "Epoch 4/4\n",
            "88/88 [==============================] - 60s 685ms/step - loss: 1.2036 - acc: 0.5476 - val_loss: 1.2863 - val_acc: 0.4903\n"
          ],
          "name": "stdout"
        }
      ]
    },
    {
      "cell_type": "code",
      "metadata": {
        "id": "MZsY6tZF5bkM",
        "colab_type": "code",
        "colab": {}
      },
      "source": [
        "for layer in baseModel.layers:\n",
        "    layer.trainable = True\n",
        "\n",
        "optimizer = Adam(lr=0.0001, beta_1=0.9, beta_2=0.999, epsilon=None, decay=0.0, amsgrad=False)\n",
        "model.compile(loss='categorical_crossentropy',\n",
        "              optimizer=optimizer,\n",
        "              metrics=['acc'])"
      ],
      "execution_count": 0,
      "outputs": []
    },
    {
      "cell_type": "code",
      "metadata": {
        "id": "O_Sevr5Q14vP",
        "colab_type": "code",
        "colab": {}
      },
      "source": [
        "learning_rate_reduction = ReduceLROnPlateau(monitor='val_acc', patience=3, verbose=1, factor=0.5, \n",
        "                                            min_lr=0.000001, cooldown=2)\n",
        "early_stopping = EarlyStopping(\n",
        "    monitor='val_acc', \n",
        "    verbose=1,\n",
        "    patience=3,\n",
        "    mode='max',\n",
        "    restore_best_weights=True)"
      ],
      "execution_count": 0,
      "outputs": []
    },
    {
      "cell_type": "code",
      "metadata": {
        "id": "cn6Xjjlz2EgL",
        "colab_type": "code",
        "outputId": "bdc46449-509b-4752-b04b-a689de8bf39d",
        "colab": {
          "base_uri": "https://localhost:8080/",
          "height": 391
        }
      },
      "source": [
        "BATCH_SIZE = 64\n",
        "NEPOCHS = 30\n",
        "history = model.fit_generator(train_augment.flow(train_data, train_y, batch_size=BATCH_SIZE),\n",
        "                              epochs = NEPOCHS, \n",
        "                              validation_data = valid_augment.flow(valid_data, valid_y),\n",
        "                              verbose = 1, \n",
        "                              steps_per_epoch=(train_data.shape[0] // BATCH_SIZE), \n",
        "                              validation_steps=(valid_data.shape[0] // BATCH_SIZE), \n",
        "                              callbacks=[learning_rate_reduction, early_stopping])"
      ],
      "execution_count": 0,
      "outputs": [
        {
          "output_type": "stream",
          "text": [
            "Epoch 1/30\n",
            "88/88 [==============================] - 76s 860ms/step - loss: 1.0070 - acc: 0.6336 - val_loss: 0.7840 - val_acc: 0.7220\n",
            "Epoch 2/30\n",
            "88/88 [==============================] - 63s 716ms/step - loss: 0.7852 - acc: 0.7198 - val_loss: 0.6651 - val_acc: 0.7608\n",
            "Epoch 3/30\n",
            "88/88 [==============================] - 62s 705ms/step - loss: 0.6655 - acc: 0.7637 - val_loss: 0.6575 - val_acc: 0.7770\n",
            "Epoch 4/30\n",
            "88/88 [==============================] - 62s 700ms/step - loss: 0.5420 - acc: 0.8105 - val_loss: 0.5797 - val_acc: 0.8017\n",
            "Epoch 5/30\n",
            "88/88 [==============================] - 61s 697ms/step - loss: 0.4950 - acc: 0.8323 - val_loss: 0.5688 - val_acc: 0.7971\n",
            "Epoch 6/30\n",
            "88/88 [==============================] - 61s 698ms/step - loss: 0.4202 - acc: 0.8578 - val_loss: 0.5878 - val_acc: 0.8362\n",
            "Epoch 7/30\n",
            "88/88 [==============================] - 62s 702ms/step - loss: 0.3848 - acc: 0.8660 - val_loss: 0.5009 - val_acc: 0.8239\n",
            "Epoch 8/30\n",
            "88/88 [==============================] - 61s 694ms/step - loss: 0.3571 - acc: 0.8764 - val_loss: 0.5970 - val_acc: 0.8125\n",
            "Epoch 9/30\n",
            "88/88 [==============================] - 61s 699ms/step - loss: 0.3254 - acc: 0.8861 - val_loss: 0.5844 - val_acc: 0.8283\n",
            "\n",
            "Epoch 00009: ReduceLROnPlateau reducing learning rate to 4.999999873689376e-05.\n",
            "Restoring model weights from the end of the best epoch\n",
            "Epoch 00009: early stopping\n"
          ],
          "name": "stdout"
        }
      ]
    },
    {
      "cell_type": "markdown",
      "metadata": {
        "id": "GgBbKfINPlHr",
        "colab_type": "text"
      },
      "source": [
        "Note that the learning rate is perhaps the most hyperparameter of our model. \n",
        "In this code block we perform a simple grid search to find an appropriate value of the learning rate"
      ]
    },
    {
      "cell_type": "markdown",
      "metadata": {
        "id": "vcIsCtN9vKTE",
        "colab_type": "text"
      },
      "source": [
        "# Inspection of the learning curves:"
      ]
    },
    {
      "cell_type": "code",
      "metadata": {
        "id": "L4PeN4ZvP5CQ",
        "colab_type": "code",
        "outputId": "2de38a0a-0c72-4e2a-a2f8-19bc3263563b",
        "colab": {
          "base_uri": "https://localhost:8080/",
          "height": 351
        }
      },
      "source": [
        "fig, axs = plt.subplots(nrows = 1, ncols =2 , figsize = (10,5))\n",
        "axs[0].plot(range(len(history.history['acc'])), history.history['acc'], linewidth = 5, label = \"training\")\n",
        "axs[0].plot(range(len(history.history['acc'])), history.history['val_acc'], linewidth = 5, label = \"validation\")\n",
        "axs[1].plot(range(len(history.history['loss'])), history.history['loss'], linewidth = 5, label = \"training\")\n",
        "axs[1].plot(range(len(history.history['loss'])), history.history['val_loss'], linewidth = 5, label = \"validation\")\n",
        "axs[0].set_xlabel(\"epochs\")\n",
        "axs[0].set_xlabel(\"epochs\")\n",
        "axs[0].set_ylabel(\"accuracy\")\n",
        "axs[1].set_ylabel(\"loss\")\n",
        "plt.legend()"
      ],
      "execution_count": 0,
      "outputs": [
        {
          "output_type": "execute_result",
          "data": {
            "text/plain": [
              "<matplotlib.legend.Legend at 0x7f7c37e94e80>"
            ]
          },
          "metadata": {
            "tags": []
          },
          "execution_count": 27
        },
        {
          "output_type": "display_data",
          "data": {
            "image/png": "[encoded data removed]",
            "text/plain": [
              "<Figure size 720x360 with 2 Axes>"
            ]
          },
          "metadata": {
            "tags": []
          }
        }
      ]
    },
    {
      "cell_type": "markdown",
      "metadata": {
        "id": "2rrXKQ0wQ_jV",
        "colab_type": "text"
      },
      "source": [
        "#Prediction in the test set"
      ]
    },
    {
      "cell_type": "code",
      "metadata": {
        "id": "-wI5i5NUP56-",
        "colab_type": "code",
        "colab": {}
      },
      "source": [
        "y_pred = model.predict(test_data)"
      ],
      "execution_count": 0,
      "outputs": []
    },
    {
      "cell_type": "code",
      "metadata": {
        "id": "fRJeXsV9P53D",
        "colab_type": "code",
        "outputId": "f2ccfd22-7178-4b9d-8d22-09fb298c99f8",
        "colab": {
          "base_uri": "https://localhost:8080/",
          "height": 34
        }
      },
      "source": [
        ""
      ],
      "execution_count": 0,
      "outputs": [
        {
          "output_type": "execute_result",
          "data": {
            "text/plain": [
              "(1885, 5)"
            ]
          },
          "metadata": {
            "tags": []
          },
          "execution_count": 29
        }
      ]
    },
    {
      "cell_type": "code",
      "metadata": {
        "id": "XxYEUP6wP5_h",
        "colab_type": "code",
        "outputId": "41b865c2-887a-409e-f1a3-1998b79d9d10",
        "colab": {
          "base_uri": "https://localhost:8080/",
          "height": 371
        }
      },
      "source": [
        "from matplotlib.colors import LogNorm\n",
        "plt.hist2d(y_pred.argmax(axis = 1), test_y.argmax(axis =1), bins = 5, density=False, norm = LogNorm())\n",
        "plt.colorbar()\n",
        "plt.xticks([0,1,2,3,4])\n",
        "plt.yticks([0,1,2,3,4])"
      ],
      "execution_count": 0,
      "outputs": [
        {
          "output_type": "execute_result",
          "data": {
            "text/plain": [
              "([<matplotlib.axis.YTick at 0x7f7c36dc42b0>,\n",
              "  <matplotlib.axis.YTick at 0x7f7c36dc4080>,\n",
              "  <matplotlib.axis.YTick at 0x7f7c36df6f98>,\n",
              "  <matplotlib.axis.YTick at 0x7f7c36d24e80>,\n",
              "  <matplotlib.axis.YTick at 0x7f7c36d24780>],\n",
              " <a list of 5 Text yticklabel objects>)"
            ]
          },
          "metadata": {
            "tags": []
          },
          "execution_count": 34
        },
        {
          "output_type": "display_data",
          "data": {
            "image/png": "[encoded data removed]",
            "text/plain": [
              "<Figure size 432x288 with 2 Axes>"
            ]
          },
          "metadata": {
            "tags": []
          }
        }
      ]
    },
    {
      "cell_type": "code",
      "metadata": {
        "id": "Dvv2FtmUP5zZ",
        "colab_type": "code",
        "outputId": "695ef846-068e-4d74-c02e-60cff2e47238",
        "colab": {
          "base_uri": "https://localhost:8080/",
          "height": 102
        }
      },
      "source": [
        "confusion_matrix(y_pred.argmax(axis = 1), test_y.argmax(axis =1))"
      ],
      "execution_count": 0,
      "outputs": [
        {
          "output_type": "execute_result",
          "data": {
            "text/plain": [
              "array([[ 70,  20,   4,   2,   6],\n",
              "       [ 47, 397,  18,  12,  12],\n",
              "       [  8,  13, 187,  23,   4],\n",
              "       [ 19,  44,  45, 841,   7],\n",
              "       [ 11,   7,   4,   8,  76]])"
            ]
          },
          "metadata": {
            "tags": []
          },
          "execution_count": 38
        }
      ]
    },
    {
      "cell_type": "code",
      "metadata": {
        "id": "zyPMMcrjP5vu",
        "colab_type": "code",
        "colab": {}
      },
      "source": [
        "unique_labels = Binarizer.inverse_transform(np.eye(5))\n",
        "report = classification_report(test_y.argmax(axis = 1), \n",
        "                      y_pred.argmax(axis = 1), \n",
        "                      labels = [0,1,2,3,4], \n",
        "                      target_names = unique_labels)"
      ],
      "execution_count": 0,
      "outputs": []
    },
    {
      "cell_type": "code",
      "metadata": {
        "id": "ktHYnbTmP5r2",
        "colab_type": "code",
        "outputId": "915ac95d-6cc4-4d55-a4c2-5727fba9c8fd",
        "colab": {
          "base_uri": "https://localhost:8080/",
          "height": 221
        }
      },
      "source": [
        "print(report)"
      ],
      "execution_count": 0,
      "outputs": [
        {
          "output_type": "stream",
          "text": [
            "              precision    recall  f1-score   support\n",
            "\n",
            "         cbb       0.69      0.45      0.54       155\n",
            "        cbsd       0.82      0.83      0.82       481\n",
            "         cgm       0.80      0.72      0.76       258\n",
            "         cmd       0.88      0.95      0.91       886\n",
            "     healthy       0.72      0.72      0.72       105\n",
            "\n",
            "    accuracy                           0.83      1885\n",
            "   macro avg       0.78      0.73      0.75      1885\n",
            "weighted avg       0.83      0.83      0.83      1885\n",
            "\n"
          ],
          "name": "stdout"
        }
      ]
    },
    {
      "cell_type": "markdown",
      "metadata": {
        "id": "5hQjBhiQUbWN",
        "colab_type": "text"
      },
      "source": [
        "#Model Performance:\n",
        "\n",
        "Now we investigate the performance of the model at classifying examples that were not included in the training or in the dev set.\n",
        "\n",
        "We look at a few metrics: \n",
        "\n",
        "> ***Precision*** which is defined as `1 - false positive rate`. One can interpret precision as the purity or cleanness of the sample. \n",
        "\n",
        "> ***Recall*** which is defined as `true positive rate`. Recall assigned to each class can be interpreted as the completeness of the sample in that class. \n",
        "\n",
        "> ***$F_1$ score*** is the harmonic mean of the precision and recall: $F_1 = 2\\times\\frac{\\mathrm{Precision.Recall}}{\\mathrm{Precision + Recall}}$.\n",
        "\n",
        "\n",
        "By looking at the classification report above, we notice that our model is good at identifying the cmd ,cbsd, cgm, but less promissing at identifying the images in the healthy and the cbb class.\n",
        "\n",
        "Out of all the leaf images identified as cmd, 88\\% are in the true cmd class. Out of all the images in the cmd class 95\\% are correctly identified as cmd. 72\\% of the objects in the healthy class are true healthy object. Furthermore, out of all the true healthy objects, 72\\% are included in the healthy class. \n",
        "\n",
        "Note that the cmd class is dominant class in the sample, and the healthy class is the least common example in the data.\n"
      ]
    },
    {
      "cell_type": "code",
      "metadata": {
        "id": "lX7crn5UP5n3",
        "colab_type": "code",
        "outputId": "425b19af-5fea-4728-f63c-2dce2b9ae29a",
        "colab": {
          "base_uri": "https://localhost:8080/",
          "height": 265
        }
      },
      "source": [
        "histogram = plt.hist(test_labels)"
      ],
      "execution_count": 0,
      "outputs": [
        {
          "output_type": "display_data",
          "data": {
            "image/png": "[encoded data removed]",
            "text/plain": [
              "<Figure size 432x288 with 1 Axes>"
            ]
          },
          "metadata": {
            "tags": []
          }
        }
      ]
    },
    {
      "cell_type": "markdown",
      "metadata": {
        "id": "Zx1xjf8LYGd9",
        "colab_type": "text"
      },
      "source": [
        "One way of handling this imbalanced nature of the data is assigning weights to the classes in claculation of the categorical cross entropy loss functions. Introducing such weights will make the model pay more attention to the less common classes in the data."
      ]
    },
    {
      "cell_type": "markdown",
      "metadata": {
        "id": "sjUXKuRBZGU0",
        "colab_type": "text"
      },
      "source": [
        "##How to find a good learning rate\n",
        "\n",
        "The most impactful hyperparameter of the model is probably the learning rate which we hard-coded in our model. \n",
        "\n",
        "\n",
        "One way to find an appropriate value of the learning rate is to make a learning rate scheduler and monitor the behaviour of the validation loss as a function of learning rate:\n",
        "\n",
        "\n",
        "\n",
        "```\n",
        "learning_rate_schedule = LearningRateScheduler(lambda epoch: 1e-6 * 10**(epoch/4)) \n",
        "```\n",
        "\n",
        "This scheduler exponentially grows the learning rate starting at an initial value of $10^{-6}$. This can be passed to the fitting process through the `callbacks` argument\n",
        "\n",
        "\n",
        "\n",
        "```\n",
        "history = model.fit_generator(train_augment.flow(train_data, train_y, batch_size=BATCH_SIZE),\n",
        "                              epochs = NEPOCHS, \n",
        "                              validation_data = valid_augment.flow(valid_data, valid_y),\n",
        "                              verbose = 1, \n",
        "                              steps_per_epoch=(train_data.shape[0] // BATCH_SIZE), \n",
        "                              validation_steps=(valid_data.shape[0] // BATCH_SIZE), \n",
        "                              callbacks=[learning_rate_schedule])\n",
        "```\n",
        "Afterwards, one can choose a proper value of this hyperparameter by inspecting the value of the validation loss as a function of learning rate.\n",
        "\n",
        "\n",
        "\n",
        "\n",
        "\n"
      ]
    }
  ]
}